{
  "nbformat": 4,
  "nbformat_minor": 0,
  "metadata": {
    "colab": {
      "name": "SCoN Classifier.ipynb",
      "provenance": []
    },
    "kernelspec": {
      "name": "python3",
      "display_name": "Python 3"
    }
  },
  "cells": [
    {
      "cell_type": "markdown",
      "metadata": {
        "id": "tLw4TbenRyY5"
      },
      "source": [
        "# 2x2 Test classifier\r\n",
        "## Mingde Yin, March 7 2021\r\n",
        "\r\n",
        "This implements a 128 layer convolutional neural network to determine the factorizability of bipartite states."
      ]
    },
    {
      "cell_type": "code",
      "metadata": {
        "id": "nhlJiahNQvtt"
      },
      "source": [
        "import tensorflow as tf\r\n",
        "import numpy as np"
      ],
      "execution_count": null,
      "outputs": []
    },
    {
      "cell_type": "markdown",
      "metadata": {
        "id": "lcKVy8F-RrcD"
      },
      "source": [
        "Make a model which accepts a 4x4 matrix with real and imaginary components"
      ]
    },
    {
      "cell_type": "code",
      "metadata": {
        "id": "Uqika-yRRFxA"
      },
      "source": [
        "model = tf.keras.models.Sequential([tf.keras.layers.Flatten(input_shape = (4,4,2)), \r\n",
        "                                    tf.keras.layers.Dense(128, activation=tf.nn.relu), \r\n",
        "                                    tf.keras.layers.Dense(1, activation=tf.nn.sigmoid)])"
      ],
      "execution_count": null,
      "outputs": []
    },
    {
      "cell_type": "code",
      "metadata": {
        "colab": {
          "base_uri": "https://localhost:8080/"
        },
        "id": "cDkKofaQRgVU",
        "outputId": "6161b479-b0de-414c-e5e1-34f1216a8e17"
      },
      "source": [
        "model.summary()"
      ],
      "execution_count": null,
      "outputs": [
        {
          "output_type": "stream",
          "text": [
            "Model: \"sequential_1\"\n",
            "_________________________________________________________________\n",
            "Layer (type)                 Output Shape              Param #   \n",
            "=================================================================\n",
            "flatten_1 (Flatten)          (None, 32)                0         \n",
            "_________________________________________________________________\n",
            "dense_2 (Dense)              (None, 128)               4224      \n",
            "_________________________________________________________________\n",
            "dense_3 (Dense)              (None, 1)                 129       \n",
            "=================================================================\n",
            "Total params: 4,353\n",
            "Trainable params: 4,353\n",
            "Non-trainable params: 0\n",
            "_________________________________________________________________\n"
          ],
          "name": "stdout"
        }
      ]
    },
    {
      "cell_type": "code",
      "metadata": {
        "id": "1ongb3vGRo10"
      },
      "source": [
        "model.compile(optimizer = tf.optimizers.Adam(),\r\n",
        "              loss = 'binary_crossentropy',\r\n",
        "              metrics=['accuracy'])"
      ],
      "execution_count": null,
      "outputs": []
    },
    {
      "cell_type": "markdown",
      "metadata": {
        "id": "raJa5o2QVQXU"
      },
      "source": [
        "## Matrix generator and validator functions from previously"
      ]
    },
    {
      "cell_type": "code",
      "metadata": {
        "id": "g7VYmBryU_r7"
      },
      "source": [
        "def random_pure_density_matrix(N):\r\n",
        "    '''\r\n",
        "    Makes a random pure density matrix for an N level system.\r\n",
        "    This is done by taking the state vectors for a pure state.\r\n",
        "\r\n",
        "    Obeys:\r\n",
        "    - Hermiticity\r\n",
        "    - Tr = 1\r\n",
        "    - P^2 = P\r\n",
        "    '''\r\n",
        "    # state vector\r\n",
        "    reals = np.random.random(N)\r\n",
        "    imgs = np.random.random(N) * 1j\r\n",
        "    state = np.matrix((reals+imgs).reshape((N, 1)))\r\n",
        "\r\n",
        "    # normalize\r\n",
        "    state = state / np.linalg.norm(state)\r\n",
        "\r\n",
        "    # make density matrix\r\n",
        "    return np.matmul(state, state.H)\r\n",
        "\r\n",
        "def bipartite_state(A, B):\r\n",
        "    '''\r\n",
        "    Returns full state of two density matrices representing factorized states\r\n",
        "    Tensor product implemented using kronecker product of the matrices\r\n",
        "    '''\r\n",
        "    return np.matrix(np.kron(A, B))\r\n",
        "\r\n",
        "def partial_transpose(P):\r\n",
        "    '''\r\n",
        "    partial transposes matrix in place\r\n",
        "    '''\r\n",
        "    # Partial transpose the array\r\n",
        "    for x in range(1, P.shape[0], 2):\r\n",
        "        for y in range(1, P.shape[1], 2):\r\n",
        "            P[x-1:x+1, y-1:y+1] = P[x-1:x+1, y-1:y+1].T\r\n",
        "    return P\r\n",
        "\r\n",
        "\r\n",
        "def entangled_PPT(P):\r\n",
        "    '''\r\n",
        "    determines if a state is entangled by the Horodecki criterion\r\n",
        "\r\n",
        "    only works for 2 (x) 2 and 2 (x) 3 cases.\r\n",
        "    '''\r\n",
        "    Ptb = np.copy(P)\r\n",
        "\r\n",
        "    partial_transpose(Ptb)\r\n",
        "\r\n",
        "    evs = np.linalg.eigvals(Ptb)\r\n",
        "    return np.all(evs.real > 0)\r\n"
      ],
      "execution_count": null,
      "outputs": []
    },
    {
      "cell_type": "markdown",
      "metadata": {
        "id": "J253XvKjVXpC"
      },
      "source": [
        "## Generate 1000 matrices to test"
      ]
    },
    {
      "cell_type": "code",
      "metadata": {
        "id": "L_M-ww1ZVKlT"
      },
      "source": [
        "np.random.seed(1)\r\n",
        "\r\n",
        "matrices = np.zeros((10000, 4, 4, 2))\r\n",
        "results = np.zeros(10000)\r\n",
        "\r\n",
        "for i in range(10000):\r\n",
        "  mat1 = random_pure_density_matrix(2)\r\n",
        "  mat2 = random_pure_density_matrix(2)\r\n",
        "  mat = bipartite_state(mat1, mat2)\r\n",
        "\r\n",
        "  matrices[i,:,:,0] = mat.real\r\n",
        "  matrices[i,:,:,1] = mat.imag\r\n",
        "  results[i] = entangled_PPT(mat)\r\n"
      ],
      "execution_count": null,
      "outputs": []
    },
    {
      "cell_type": "markdown",
      "metadata": {
        "id": "iikFvEHUYEQA"
      },
      "source": [
        "# Train the network"
      ]
    },
    {
      "cell_type": "code",
      "metadata": {
        "colab": {
          "base_uri": "https://localhost:8080/"
        },
        "id": "sWrmYQzrYD1u",
        "outputId": "00744e33-893a-4966-a00c-422917c2c2aa"
      },
      "source": [
        "history = model.fit(x=matrices, y=results,\r\n",
        "      steps_per_epoch=100,  \r\n",
        "      epochs=100,\r\n",
        "      verbose=1)"
      ],
      "execution_count": null,
      "outputs": [
        {
          "output_type": "stream",
          "text": [
            "Epoch 1/100\n",
            "100/100 [==============================] - 0s 1ms/step - loss: 0.4875 - accuracy: 0.8868\n",
            "Epoch 2/100\n",
            "100/100 [==============================] - 0s 2ms/step - loss: 0.3410 - accuracy: 0.8943\n",
            "Epoch 3/100\n",
            "100/100 [==============================] - 0s 2ms/step - loss: 0.3339 - accuracy: 0.8971\n",
            "Epoch 4/100\n",
            "100/100 [==============================] - 0s 2ms/step - loss: 0.3353 - accuracy: 0.8961\n",
            "Epoch 5/100\n",
            "100/100 [==============================] - 0s 1ms/step - loss: 0.3336 - accuracy: 0.8963\n",
            "Epoch 6/100\n",
            "100/100 [==============================] - 0s 1ms/step - loss: 0.3382 - accuracy: 0.8943\n",
            "Epoch 7/100\n",
            "100/100 [==============================] - 0s 2ms/step - loss: 0.3301 - accuracy: 0.8974\n",
            "Epoch 8/100\n",
            "100/100 [==============================] - 0s 2ms/step - loss: 0.3314 - accuracy: 0.8964\n",
            "Epoch 9/100\n",
            "100/100 [==============================] - 0s 2ms/step - loss: 0.3270 - accuracy: 0.8992\n",
            "Epoch 10/100\n",
            "100/100 [==============================] - 0s 2ms/step - loss: 0.3414 - accuracy: 0.8925\n",
            "Epoch 11/100\n",
            "100/100 [==============================] - 0s 2ms/step - loss: 0.3346 - accuracy: 0.8954\n",
            "Epoch 12/100\n",
            "100/100 [==============================] - 0s 1ms/step - loss: 0.3335 - accuracy: 0.8958\n",
            "Epoch 13/100\n",
            "100/100 [==============================] - 0s 1ms/step - loss: 0.3360 - accuracy: 0.8944\n",
            "Epoch 14/100\n",
            "100/100 [==============================] - 0s 1ms/step - loss: 0.3314 - accuracy: 0.8968\n",
            "Epoch 15/100\n",
            "100/100 [==============================] - 0s 2ms/step - loss: 0.3265 - accuracy: 0.8991\n",
            "Epoch 16/100\n",
            "100/100 [==============================] - 0s 2ms/step - loss: 0.3340 - accuracy: 0.8955\n",
            "Epoch 17/100\n",
            "100/100 [==============================] - 0s 2ms/step - loss: 0.3278 - accuracy: 0.8981\n",
            "Epoch 18/100\n",
            "100/100 [==============================] - 0s 2ms/step - loss: 0.3238 - accuracy: 0.8997\n",
            "Epoch 19/100\n",
            "100/100 [==============================] - 0s 1ms/step - loss: 0.3413 - accuracy: 0.8917\n",
            "Epoch 20/100\n",
            "100/100 [==============================] - 0s 1ms/step - loss: 0.3285 - accuracy: 0.8978\n",
            "Epoch 21/100\n",
            "100/100 [==============================] - 0s 2ms/step - loss: 0.3335 - accuracy: 0.8954\n",
            "Epoch 22/100\n",
            "100/100 [==============================] - 0s 1ms/step - loss: 0.3314 - accuracy: 0.8967\n",
            "Epoch 23/100\n",
            "100/100 [==============================] - 0s 2ms/step - loss: 0.3284 - accuracy: 0.8979\n",
            "Epoch 24/100\n",
            "100/100 [==============================] - 0s 1ms/step - loss: 0.3288 - accuracy: 0.8979\n",
            "Epoch 25/100\n",
            "100/100 [==============================] - 0s 2ms/step - loss: 0.3301 - accuracy: 0.8969\n",
            "Epoch 26/100\n",
            "100/100 [==============================] - 0s 2ms/step - loss: 0.3308 - accuracy: 0.8965\n",
            "Epoch 27/100\n",
            "100/100 [==============================] - 0s 2ms/step - loss: 0.3347 - accuracy: 0.8945\n",
            "Epoch 28/100\n",
            "100/100 [==============================] - 0s 2ms/step - loss: 0.3316 - accuracy: 0.8960\n",
            "Epoch 29/100\n",
            "100/100 [==============================] - 0s 1ms/step - loss: 0.3283 - accuracy: 0.8974\n",
            "Epoch 30/100\n",
            "100/100 [==============================] - 0s 2ms/step - loss: 0.3295 - accuracy: 0.8972\n",
            "Epoch 31/100\n",
            "100/100 [==============================] - 0s 2ms/step - loss: 0.3358 - accuracy: 0.8939\n",
            "Epoch 32/100\n",
            "100/100 [==============================] - 0s 1ms/step - loss: 0.3430 - accuracy: 0.8912\n",
            "Epoch 33/100\n",
            "100/100 [==============================] - 0s 1ms/step - loss: 0.3414 - accuracy: 0.8914\n",
            "Epoch 34/100\n",
            "100/100 [==============================] - 0s 2ms/step - loss: 0.3322 - accuracy: 0.8956\n",
            "Epoch 35/100\n",
            "100/100 [==============================] - 0s 2ms/step - loss: 0.3229 - accuracy: 0.8993\n",
            "Epoch 36/100\n",
            "100/100 [==============================] - 0s 2ms/step - loss: 0.3296 - accuracy: 0.8969\n",
            "Epoch 37/100\n",
            "100/100 [==============================] - 0s 1ms/step - loss: 0.3243 - accuracy: 0.8990\n",
            "Epoch 38/100\n",
            "100/100 [==============================] - 0s 2ms/step - loss: 0.3341 - accuracy: 0.8945\n",
            "Epoch 39/100\n",
            "100/100 [==============================] - 0s 2ms/step - loss: 0.3287 - accuracy: 0.8968\n",
            "Epoch 40/100\n",
            "100/100 [==============================] - 0s 2ms/step - loss: 0.3325 - accuracy: 0.8955\n",
            "Epoch 41/100\n",
            "100/100 [==============================] - 0s 2ms/step - loss: 0.3368 - accuracy: 0.8928\n",
            "Epoch 42/100\n",
            "100/100 [==============================] - 0s 2ms/step - loss: 0.3424 - accuracy: 0.8914\n",
            "Epoch 43/100\n",
            "100/100 [==============================] - 0s 1ms/step - loss: 0.3334 - accuracy: 0.8946\n",
            "Epoch 44/100\n",
            "100/100 [==============================] - 0s 1ms/step - loss: 0.3257 - accuracy: 0.8986\n",
            "Epoch 45/100\n",
            "100/100 [==============================] - 0s 2ms/step - loss: 0.3277 - accuracy: 0.8970\n",
            "Epoch 46/100\n",
            "100/100 [==============================] - 0s 2ms/step - loss: 0.3330 - accuracy: 0.8943\n",
            "Epoch 47/100\n",
            "100/100 [==============================] - 0s 2ms/step - loss: 0.3323 - accuracy: 0.8949\n",
            "Epoch 48/100\n",
            "100/100 [==============================] - 0s 2ms/step - loss: 0.3234 - accuracy: 0.8988\n",
            "Epoch 49/100\n",
            "100/100 [==============================] - 0s 2ms/step - loss: 0.3341 - accuracy: 0.8943\n",
            "Epoch 50/100\n",
            "100/100 [==============================] - 0s 2ms/step - loss: 0.3280 - accuracy: 0.8974\n",
            "Epoch 51/100\n",
            "100/100 [==============================] - 0s 1ms/step - loss: 0.3288 - accuracy: 0.8955\n",
            "Epoch 52/100\n",
            "100/100 [==============================] - 0s 2ms/step - loss: 0.3342 - accuracy: 0.8939\n",
            "Epoch 53/100\n",
            "100/100 [==============================] - 0s 2ms/step - loss: 0.3213 - accuracy: 0.8996\n",
            "Epoch 54/100\n",
            "100/100 [==============================] - 0s 2ms/step - loss: 0.3222 - accuracy: 0.8999\n",
            "Epoch 55/100\n",
            "100/100 [==============================] - 0s 2ms/step - loss: 0.3190 - accuracy: 0.9007\n",
            "Epoch 56/100\n",
            "100/100 [==============================] - 0s 2ms/step - loss: 0.3296 - accuracy: 0.8950\n",
            "Epoch 57/100\n",
            "100/100 [==============================] - 0s 1ms/step - loss: 0.3324 - accuracy: 0.8948\n",
            "Epoch 58/100\n",
            "100/100 [==============================] - 0s 2ms/step - loss: 0.3379 - accuracy: 0.8926\n",
            "Epoch 59/100\n",
            "100/100 [==============================] - 0s 1ms/step - loss: 0.3247 - accuracy: 0.8983\n",
            "Epoch 60/100\n",
            "100/100 [==============================] - 0s 1ms/step - loss: 0.3347 - accuracy: 0.8929\n",
            "Epoch 61/100\n",
            "100/100 [==============================] - 0s 2ms/step - loss: 0.3379 - accuracy: 0.8914\n",
            "Epoch 62/100\n",
            "100/100 [==============================] - 0s 2ms/step - loss: 0.3262 - accuracy: 0.8978\n",
            "Epoch 63/100\n",
            "100/100 [==============================] - 0s 1ms/step - loss: 0.3341 - accuracy: 0.8938\n",
            "Epoch 64/100\n",
            "100/100 [==============================] - 0s 2ms/step - loss: 0.3320 - accuracy: 0.8949\n",
            "Epoch 65/100\n",
            "100/100 [==============================] - 0s 2ms/step - loss: 0.3227 - accuracy: 0.8993\n",
            "Epoch 66/100\n",
            "100/100 [==============================] - 0s 2ms/step - loss: 0.3170 - accuracy: 0.9022\n",
            "Epoch 67/100\n",
            "100/100 [==============================] - 0s 2ms/step - loss: 0.3228 - accuracy: 0.8986\n",
            "Epoch 68/100\n",
            "100/100 [==============================] - 0s 2ms/step - loss: 0.3248 - accuracy: 0.8976\n",
            "Epoch 69/100\n",
            "100/100 [==============================] - 0s 2ms/step - loss: 0.3271 - accuracy: 0.8958\n",
            "Epoch 70/100\n",
            "100/100 [==============================] - 0s 2ms/step - loss: 0.3285 - accuracy: 0.8959\n",
            "Epoch 71/100\n",
            "100/100 [==============================] - 0s 2ms/step - loss: 0.3308 - accuracy: 0.8944\n",
            "Epoch 72/100\n",
            "100/100 [==============================] - 0s 2ms/step - loss: 0.3372 - accuracy: 0.8914\n",
            "Epoch 73/100\n",
            "100/100 [==============================] - 0s 2ms/step - loss: 0.3337 - accuracy: 0.8926\n",
            "Epoch 74/100\n",
            "100/100 [==============================] - 0s 2ms/step - loss: 0.3405 - accuracy: 0.8902\n",
            "Epoch 75/100\n",
            "100/100 [==============================] - 0s 2ms/step - loss: 0.3332 - accuracy: 0.8936\n",
            "Epoch 76/100\n",
            "100/100 [==============================] - 0s 2ms/step - loss: 0.3267 - accuracy: 0.8961\n",
            "Epoch 77/100\n",
            "100/100 [==============================] - 0s 2ms/step - loss: 0.3379 - accuracy: 0.8919\n",
            "Epoch 78/100\n",
            "100/100 [==============================] - 0s 2ms/step - loss: 0.3181 - accuracy: 0.9006\n",
            "Epoch 79/100\n",
            "100/100 [==============================] - 0s 2ms/step - loss: 0.3285 - accuracy: 0.8958\n",
            "Epoch 80/100\n",
            "100/100 [==============================] - 0s 2ms/step - loss: 0.3199 - accuracy: 0.8991\n",
            "Epoch 81/100\n",
            "100/100 [==============================] - 0s 2ms/step - loss: 0.3239 - accuracy: 0.8970\n",
            "Epoch 82/100\n",
            "100/100 [==============================] - 0s 2ms/step - loss: 0.3244 - accuracy: 0.8981\n",
            "Epoch 83/100\n",
            "100/100 [==============================] - 0s 2ms/step - loss: 0.3262 - accuracy: 0.8961\n",
            "Epoch 84/100\n",
            "100/100 [==============================] - 0s 2ms/step - loss: 0.3373 - accuracy: 0.8912\n",
            "Epoch 85/100\n",
            "100/100 [==============================] - 0s 2ms/step - loss: 0.3387 - accuracy: 0.8912\n",
            "Epoch 86/100\n",
            "100/100 [==============================] - 0s 2ms/step - loss: 0.3423 - accuracy: 0.8905\n",
            "Epoch 87/100\n",
            "100/100 [==============================] - 0s 2ms/step - loss: 0.3270 - accuracy: 0.8958\n",
            "Epoch 88/100\n",
            "100/100 [==============================] - 0s 2ms/step - loss: 0.3239 - accuracy: 0.8973\n",
            "Epoch 89/100\n",
            "100/100 [==============================] - 0s 2ms/step - loss: 0.3281 - accuracy: 0.8949\n",
            "Epoch 90/100\n",
            "100/100 [==============================] - 0s 2ms/step - loss: 0.3155 - accuracy: 0.9010\n",
            "Epoch 91/100\n",
            "100/100 [==============================] - 0s 2ms/step - loss: 0.3362 - accuracy: 0.8912\n",
            "Epoch 92/100\n",
            "100/100 [==============================] - 0s 2ms/step - loss: 0.3308 - accuracy: 0.8943\n",
            "Epoch 93/100\n",
            "100/100 [==============================] - 0s 2ms/step - loss: 0.3248 - accuracy: 0.8973\n",
            "Epoch 94/100\n",
            "100/100 [==============================] - 0s 2ms/step - loss: 0.3219 - accuracy: 0.8975\n",
            "Epoch 95/100\n",
            "100/100 [==============================] - 0s 2ms/step - loss: 0.3277 - accuracy: 0.8947\n",
            "Epoch 96/100\n",
            "100/100 [==============================] - 0s 2ms/step - loss: 0.3335 - accuracy: 0.8921\n",
            "Epoch 97/100\n",
            "100/100 [==============================] - 0s 2ms/step - loss: 0.3200 - accuracy: 0.8983\n",
            "Epoch 98/100\n",
            "100/100 [==============================] - 0s 2ms/step - loss: 0.3235 - accuracy: 0.8970\n",
            "Epoch 99/100\n",
            "100/100 [==============================] - 0s 2ms/step - loss: 0.3237 - accuracy: 0.8974\n",
            "Epoch 100/100\n",
            "100/100 [==============================] - 0s 2ms/step - loss: 0.3203 - accuracy: 0.8988\n"
          ],
          "name": "stdout"
        }
      ]
    },
    {
      "cell_type": "markdown",
      "metadata": {
        "id": "AY8aINJpaG83"
      },
      "source": [
        "# Try to predict\r\n",
        "\r\n",
        "This is literally garbage right now\r\n",
        "\r\n",
        "1 = Factorizable\r\n",
        "0 = Entangled\r\n",
        "\r\n",
        "Neural network outputs something between 0 and 1"
      ]
    },
    {
      "cell_type": "code",
      "metadata": {
        "colab": {
          "base_uri": "https://localhost:8080/"
        },
        "id": "V6zfO751Yz85",
        "outputId": "6be38e33-c11d-4d82-8e92-3598dca27587"
      },
      "source": [
        "matrices = np.zeros((20, 4, 4, 2))\r\n",
        "results = np.zeros(20)\r\n",
        "\r\n",
        "for i in range(20):\r\n",
        "  mat1 = random_pure_density_matrix(2)\r\n",
        "  mat2 = random_pure_density_matrix(2)\r\n",
        "  mat = bipartite_state(mat1, mat2)\r\n",
        "\r\n",
        "  matrices[i,:,:,0] = mat.real\r\n",
        "  matrices[i,:,:,1] = mat.imag\r\n",
        "  results[i] = entangled_PPT(mat)\r\n",
        "\r\n",
        "print(results)\r\n",
        "print(model.predict(x=matrices, batch_size=20))\r\n",
        "\r\n"
      ],
      "execution_count": null,
      "outputs": [
        {
          "output_type": "stream",
          "text": [
            "[0. 0. 1. 0. 1. 0. 0. 0. 0. 0. 1. 0. 0. 1. 0. 0. 0. 1. 0. 0.]\n",
            "[[0.11785063]\n",
            " [0.10505965]\n",
            " [0.12163958]\n",
            " [0.11472026]\n",
            " [0.09796125]\n",
            " [0.10600638]\n",
            " [0.09864578]\n",
            " [0.07458401]\n",
            " [0.10841855]\n",
            " [0.12761122]\n",
            " [0.15103939]\n",
            " [0.1196062 ]\n",
            " [0.07676035]\n",
            " [0.10476428]\n",
            " [0.11031389]\n",
            " [0.17496276]\n",
            " [0.14809957]\n",
            " [0.08922359]\n",
            " [0.11569563]\n",
            " [0.1318663 ]]\n"
          ],
          "name": "stdout"
        }
      ]
    },
    {
      "cell_type": "markdown",
      "metadata": {
        "id": "h3JD-WWzaqZN"
      },
      "source": [
        "# Reflection\r\n",
        "\r\n",
        "1. Need a proper way of figuring out whether or not a state is entangled or not\r\n",
        "2. Need to find a better network architecture\r\n",
        "\r\n",
        "The problem with convolution kernels is that they really like to compress and scrunch up information -- which is OK for images, but maybe not for matrices with precise numbers in them"
      ]
    }
  ]
}