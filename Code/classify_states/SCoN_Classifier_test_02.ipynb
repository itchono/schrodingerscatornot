{
  "nbformat": 4,
  "nbformat_minor": 0,
  "metadata": {
    "colab": {
      "name": "IX The Hermit.ipynb",
      "provenance": [],
      "collapsed_sections": []
    },
    "kernelspec": {
      "name": "python3",
      "display_name": "Python 3"
    },
    "language_info": {
      "name": "python"
    }
  },
  "cells": [
    {
      "cell_type": "markdown",
      "metadata": {
        "id": "HNGf8Ct2vQzK"
      },
      "source": [
        "# IX: The Hermit\n",
        "### Schrodinger's Cat or Not, classifier test 2\n",
        "Scope: Test-classifier to see if a neural network can learn how to classify a 3x3 complex matrix as hermitian or not\n",
        "May 24-25, 2021"
      ]
    },
    {
      "cell_type": "code",
      "metadata": {
        "id": "GErUhFqCbKAi"
      },
      "source": [
        "import tensorflow as tf\n",
        "import numpy as np"
      ],
      "execution_count": 1,
      "outputs": []
    },
    {
      "cell_type": "code",
      "metadata": {
        "colab": {
          "base_uri": "https://localhost:8080/"
        },
        "id": "JnGYDo0mbcWF",
        "outputId": "64d2d072-e407-478f-ba00-9b8c7f6e0854"
      },
      "source": [
        "#@title Build Our Model\n",
        "#@markdown We use a very simple neural network to keep things straightforward\n",
        "model = tf.keras.models.Sequential([tf.keras.layers.Flatten(input_shape = (3,3,2)), \n",
        "                                    tf.keras.layers.Dense(32, activation=tf.nn.relu), \n",
        "                                    tf.keras.layers.Dense(1, activation=tf.nn.sigmoid)])\n",
        "print(model.summary())\n",
        "model.compile(optimizer = tf.optimizers.Adam(),\n",
        "              loss = 'binary_crossentropy',\n",
        "              metrics=['accuracy'])"
      ],
      "execution_count": 2,
      "outputs": [
        {
          "output_type": "stream",
          "text": [
            "Model: \"sequential\"\n",
            "_________________________________________________________________\n",
            "Layer (type)                 Output Shape              Param #   \n",
            "=================================================================\n",
            "flatten (Flatten)            (None, 18)                0         \n",
            "_________________________________________________________________\n",
            "dense (Dense)                (None, 32)                608       \n",
            "_________________________________________________________________\n",
            "dense_1 (Dense)              (None, 1)                 33        \n",
            "=================================================================\n",
            "Total params: 641\n",
            "Trainable params: 641\n",
            "Non-trainable params: 0\n",
            "_________________________________________________________________\n",
            "None\n"
          ],
          "name": "stdout"
        }
      ]
    },
    {
      "cell_type": "code",
      "metadata": {
        "id": "ZoOwR_TIb4bm"
      },
      "source": [
        "#@title Some Useful Custom Functions\n",
        "#@markdown Hermiticity checker, random complex matrix generator\n",
        "\n",
        "def is_hermitian(M: np.matrix):\n",
        "    return (M == M.H).all()\n",
        "\n",
        "def rand_complex(N):\n",
        "    '''\n",
        "    Random complex matrix\n",
        "    '''\n",
        "    reals = np.random.random((N, N))\n",
        "    imags = np.random.random((N, N)) * 1j\n",
        "\n",
        "    return np.matrix(reals + imags)"
      ],
      "execution_count": 3,
      "outputs": []
    },
    {
      "cell_type": "code",
      "metadata": {
        "id": "e8u-hQqWomzE"
      },
      "source": [
        "#@title prefabbed code from SCoN\n",
        "#@markdown Hermitian generator\n",
        "def rand_diag(N):\n",
        "    '''\n",
        "    N Dimensional random trace-1 diagonal matrix via the following process:\n",
        "        - Generate a random row vector\n",
        "        - Divide by the sum to get trace-1\n",
        "        - Return diagonal matrix\n",
        "    '''\n",
        "    diag_elements = np.random.random(N)\n",
        "    return np.matrix(np.diag(diag_elements/sum(diag_elements)))\n",
        "\n",
        "\n",
        "def rand_unitary(N):\n",
        "    '''\n",
        "    Random complex unitary matrix via the following process:\n",
        "        - Generate a random complex matrix\n",
        "        - Apply QR decomposition to get a unitary Q matrix\n",
        "        - Return Q\n",
        "    '''\n",
        "    reals = np.random.random((N, N))\n",
        "    imags = np.random.random((N, N)) * 1j\n",
        "\n",
        "    a = reals + imags\n",
        "    # Run QR decomposition to get unitary operator\n",
        "    q, _ = np.linalg.qr(a)\n",
        "    return np.matrix(q)\n",
        "\n",
        "\n",
        "def rand_hermitian(N):\n",
        "    '''\n",
        "    Random trace-1 hermitian matrix of dimension N\n",
        "    '''\n",
        "    U = rand_unitary(N)\n",
        "    H = rand_diag(N)\n",
        "\n",
        "    return U * H * U.H"
      ],
      "execution_count": 4,
      "outputs": []
    },
    {
      "cell_type": "code",
      "metadata": {
        "id": "WqF_9Eo4o3Gm"
      },
      "source": [
        "#@title Generate the Dataset\n",
        "#@markdown Training with 100 matrices\n",
        "matrices = np.zeros((200, 3, 3, 2))\n",
        "results = np.zeros(200)\n",
        "\n",
        "for i in range(100):\n",
        "  \n",
        "  hermit = True\n",
        "  while hermit:\n",
        "    mat = rand_complex(3)\n",
        "    hermit = is_hermitian(mat)\n",
        "  matrices[2*i,:,:,0] = mat.real\n",
        "  matrices[2*i,:,:,1] = mat.imag\n",
        "  results[2*i] = 0\n",
        "\n",
        "  H = rand_hermitian(3)\n",
        "  matrices[2*i + 1,:,:,0] = H.real\n",
        "  matrices[2*i + 1,:,:,1] = H.imag\n",
        "  results[2*i + 1] = 1\n"
      ],
      "execution_count": 5,
      "outputs": []
    },
    {
      "cell_type": "code",
      "metadata": {
        "colab": {
          "base_uri": "https://localhost:8080/"
        },
        "id": "HJtaEIaGrPku",
        "outputId": "57470edd-72cf-4fe7-aba8-b9381acf0713"
      },
      "source": [
        "history = model.fit(x=matrices, y=results, epochs=10, steps_per_epoch=100, verbose=1)"
      ],
      "execution_count": 6,
      "outputs": [
        {
          "output_type": "stream",
          "text": [
            "Epoch 1/10\n",
            "100/100 [==============================] - 1s 1ms/step - loss: 0.7115 - accuracy: 0.5662\n",
            "Epoch 2/10\n",
            "100/100 [==============================] - 0s 1ms/step - loss: 0.3661 - accuracy: 0.9747\n",
            "Epoch 3/10\n",
            "100/100 [==============================] - 0s 1ms/step - loss: 0.2118 - accuracy: 1.0000\n",
            "Epoch 4/10\n",
            "100/100 [==============================] - 0s 1ms/step - loss: 0.1078 - accuracy: 1.0000\n",
            "Epoch 5/10\n",
            "100/100 [==============================] - 0s 1ms/step - loss: 0.0679 - accuracy: 1.0000\n",
            "Epoch 6/10\n",
            "100/100 [==============================] - 0s 1ms/step - loss: 0.0400 - accuracy: 1.0000\n",
            "Epoch 7/10\n",
            "100/100 [==============================] - 0s 1ms/step - loss: 0.0261 - accuracy: 1.0000\n",
            "Epoch 8/10\n",
            "100/100 [==============================] - 0s 1ms/step - loss: 0.0226 - accuracy: 1.0000\n",
            "Epoch 9/10\n",
            "100/100 [==============================] - 0s 1ms/step - loss: 0.0135 - accuracy: 1.0000\n",
            "Epoch 10/10\n",
            "100/100 [==============================] - 0s 1ms/step - loss: 0.0109 - accuracy: 1.0000\n"
          ],
          "name": "stdout"
        }
      ]
    },
    {
      "cell_type": "code",
      "metadata": {
        "colab": {
          "base_uri": "https://localhost:8080/"
        },
        "id": "rrITZSgDr0br",
        "outputId": "f7a9a0de-7485-4e96-d195-01437985a902"
      },
      "source": [
        "#@title Validate our results\n",
        "#@markdown Generate 1 Hermitian and 1 random (probably non-hermitian) matrix to test!\n",
        "\n",
        "mat = rand_hermitian(3)\n",
        "bad = rand_complex(3)\n",
        "\n",
        "bruh = np.empty((2, 3, 3, 2))\n",
        "\n",
        "bruh[0,:,:,0] = mat.real\n",
        "bruh[0,:,:,1] = mat.imag\n",
        "\n",
        "bruh[1,:,:,0] = bad.real\n",
        "bruh[1,:,:,1] = bad.imag\n",
        "\n",
        "\n",
        "model.predict(bruh)"
      ],
      "execution_count": 10,
      "outputs": [
        {
          "output_type": "execute_result",
          "data": {
            "text/plain": [
              "array([[0.9909215 ],\n",
              "       [0.00399008]], dtype=float32)"
            ]
          },
          "metadata": {
            "tags": []
          },
          "execution_count": 10
        }
      ]
    },
    {
      "cell_type": "markdown",
      "metadata": {
        "id": "J_TMQ0O3u2gJ"
      },
      "source": [
        "# Conclusion\n",
        "This appears to work!"
      ]
    }
  ]
}