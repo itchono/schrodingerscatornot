{
  "nbformat": 4,
  "nbformat_minor": 0,
  "metadata": {
    "colab": {
      "name": "IX The Hermit Block II.ipynb",
      "provenance": [],
      "collapsed_sections": []
    },
    "kernelspec": {
      "name": "python3",
      "display_name": "Python 3"
    },
    "language_info": {
      "name": "python"
    }
  },
  "cells": [
    {
      "cell_type": "markdown",
      "metadata": {
        "id": "HNGf8Ct2vQzK"
      },
      "source": [
        "# IX: The Hermit, Block 2\n",
        "### Schrodinger's Cat or Not, classifier test 2\n",
        "Scope: Test-classifier to see if a neural network can learn how to classify a 3x3 complex matrix as hermitian or not, and test on a 4x4\n",
        "\n",
        "June 2, 2021"
      ]
    },
    {
      "cell_type": "code",
      "metadata": {
        "id": "GErUhFqCbKAi"
      },
      "source": [
        "import tensorflow as tf\n",
        "import numpy as np\n",
        "from matplotlib import pyplot as plt"
      ],
      "execution_count": 1,
      "outputs": []
    },
    {
      "cell_type": "code",
      "metadata": {
        "colab": {
          "base_uri": "https://localhost:8080/"
        },
        "id": "JnGYDo0mbcWF",
        "cellView": "form",
        "outputId": "f2b4954a-6b59-46f2-b8a3-a4a936659e94"
      },
      "source": [
        "#@title Build Our Model\n",
        "#@markdown We use a very simple neural network to keep things straightforward\n",
        "model = tf.keras.models.Sequential([tf.keras.layers.Flatten(input_shape = (4,4,2)), \n",
        "                                    tf.keras.layers.Dense(16, activation=tf.nn.relu), \n",
        "                                    tf.keras.layers.Dense(1, activation=tf.nn.sigmoid)])\n",
        "print(model.summary())\n",
        "model.compile(optimizer = tf.optimizers.Adam(),\n",
        "              loss = 'binary_crossentropy',\n",
        "              metrics=['accuracy'])"
      ],
      "execution_count": 148,
      "outputs": [
        {
          "output_type": "stream",
          "text": [
            "Model: \"sequential_3\"\n",
            "_________________________________________________________________\n",
            "Layer (type)                 Output Shape              Param #   \n",
            "=================================================================\n",
            "flatten_3 (Flatten)          (None, 32)                0         \n",
            "_________________________________________________________________\n",
            "dense_6 (Dense)              (None, 16)                528       \n",
            "_________________________________________________________________\n",
            "dense_7 (Dense)              (None, 1)                 17        \n",
            "=================================================================\n",
            "Total params: 545\n",
            "Trainable params: 545\n",
            "Non-trainable params: 0\n",
            "_________________________________________________________________\n",
            "None\n"
          ],
          "name": "stdout"
        }
      ]
    },
    {
      "cell_type": "code",
      "metadata": {
        "id": "ZoOwR_TIb4bm",
        "cellView": "form"
      },
      "source": [
        "#@title Some Useful Custom Functions\n",
        "#@markdown Hermiticity checker, random complex matrix generator\n",
        "\n",
        "def is_hermitian(M: np.matrix):\n",
        "    return np.allclose(M, M.H)\n",
        "\n",
        "def rand_complex(N):\n",
        "    '''\n",
        "    Random complex matrix\n",
        "    '''\n",
        "    reals = np.random.random((N, N))\n",
        "    imags = np.random.random((N, N)) * 1j\n",
        "\n",
        "    mat = np.matrix(reals + imags)\n",
        "    return mat / 3\n",
        "\n",
        "import pandas as pd\n",
        "\n",
        "\n",
        "def print_matrix(P):\n",
        "    '''\n",
        "    Just pretty prints matrices so that I can call it in one line\n",
        "    '''\n",
        "    with pd.option_context('display.max_rows', None, 'display.max_columns', None):\n",
        "      print(pd.DataFrame(P))"
      ],
      "execution_count": 122,
      "outputs": []
    },
    {
      "cell_type": "code",
      "metadata": {
        "id": "e8u-hQqWomzE",
        "cellView": "form"
      },
      "source": [
        "#@title prefabbed code from SCoN\n",
        "#@markdown Hermitian generator\n",
        "def rand_diag(N):\n",
        "    '''\n",
        "    N Dimensional random trace-1 diagonal matrix via the following process:\n",
        "        - Generate a random row vector\n",
        "        - Divide by the sum to get trace-1\n",
        "        - Return diagonal matrix\n",
        "    '''\n",
        "    diag_elements = np.random.random(N)\n",
        "    return np.matrix(np.diag(diag_elements/sum(diag_elements)))\n",
        "\n",
        "\n",
        "def rand_unitary(N):\n",
        "    '''\n",
        "    Random complex unitary matrix via the following process:\n",
        "        - Generate a random complex matrix\n",
        "        - Apply QR decomposition to get a unitary Q matrix\n",
        "        - Return Q\n",
        "    '''\n",
        "    reals = np.random.random((N, N))\n",
        "    imags = np.random.random((N, N)) * 1j\n",
        "\n",
        "    a = reals + imags\n",
        "    # Run QR decomposition to get unitary operator\n",
        "    q, _ = np.linalg.qr(a)\n",
        "    return np.matrix(q)\n",
        "\n",
        "\n",
        "def rand_hermitian(N):\n",
        "    '''\n",
        "    Random trace-1 hermitian matrix of dimension N\n",
        "    '''\n",
        "    U = rand_unitary(N)\n",
        "    H = rand_diag(N)\n",
        "\n",
        "    return U * H * U.H\n",
        "\n",
        "def extend_diagonal(matrix: np.matrix, n: int):\n",
        "    '''\n",
        "    Makes the matrix n dimensions bigger with new elements filled with zeroes\n",
        "    '''\n",
        "    new_dim = matrix.shape[0] + n\n",
        "    new_mat = np.zeros((new_dim, new_dim)).astype(complex)\n",
        "    new_mat[:matrix.shape[0], :matrix.shape[1]] = matrix\n",
        "    return np.matrix(new_mat)\n"
      ],
      "execution_count": 4,
      "outputs": []
    },
    {
      "cell_type": "code",
      "metadata": {
        "id": "WqF_9Eo4o3Gm",
        "cellView": "form"
      },
      "source": [
        "#@title Generate the Dataset\n",
        "#@markdown Training with 500 matrices of each type\n",
        "matrices = np.zeros((1000, 4, 4, 2))\n",
        "results = np.zeros(1000)\n",
        "\n",
        "for i in range(500):\n",
        "  \n",
        "  hermit = True\n",
        "  while hermit:\n",
        "    mat = rand_complex(3)\n",
        "    hermit = is_hermitian(mat)\n",
        "  matrices[2*i,:3,:3,0] = mat.real\n",
        "  matrices[2*i,:3,:3,1] = mat.imag\n",
        "  results[2*i] = 0\n",
        "\n",
        "  H = rand_hermitian(3)\n",
        "  matrices[2*i + 1,:3,:3,0] = H.real\n",
        "  matrices[2*i + 1,:3,:3,1] = H.imag\n",
        "  results[2*i + 1] = 1\n"
      ],
      "execution_count": 149,
      "outputs": []
    },
    {
      "cell_type": "code",
      "metadata": {
        "cellView": "form",
        "id": "bej-9Uwu5CAC"
      },
      "source": [
        "#@title Show the matrices (optional)\n",
        "#@markdown Get a graphical look at the matrices\n",
        "import time\n",
        "from IPython.display import clear_output \n",
        "\n",
        "def show_matrix(n):\n",
        "  print(\"Real Component\")\n",
        "  fig, ax = plt.subplots()\n",
        "\n",
        "  ax.matshow(matrices[n, :, :, 0], cmap=plt.cm.coolwarm)\n",
        "  \n",
        "  for i in range(4):\n",
        "      for j in range(4):\n",
        "          c = round(matrices[n, j,i, 0], 2)\n",
        "          ax.text(i, j, str(c), va='center', ha='center')\n",
        "  plt.show()\n",
        "\n",
        "  print(\"Imaginary Component\")\n",
        "  fig, ax = plt.subplots()\n",
        "  ax.matshow(matrices[n, :, :, 1], cmap=plt.cm.coolwarm)\n",
        "\n",
        "  for i in range(4):\n",
        "      for j in range(4):\n",
        "          c = round(matrices[n, j,i, 1], 2)\n",
        "          ax.text(i, j, str(c), va='center', ha='center')\n",
        "  plt.show()\n",
        "\n",
        "for i in range(1, 200, 2):\n",
        "    show_matrix(i)\n",
        "    time.sleep(1)\n",
        "    clear_output()"
      ],
      "execution_count": 55,
      "outputs": []
    },
    {
      "cell_type": "code",
      "metadata": {
        "colab": {
          "base_uri": "https://localhost:8080/"
        },
        "id": "HJtaEIaGrPku",
        "outputId": "6689b263-7ce9-4421-c108-90cbf4b3b4e6"
      },
      "source": [
        "history = model.fit(x=matrices, y=results, verbose=1)"
      ],
      "execution_count": 159,
      "outputs": [
        {
          "output_type": "stream",
          "text": [
            "32/32 [==============================] - 0s 2ms/step - loss: 0.0046 - accuracy: 1.0000\n"
          ],
          "name": "stdout"
        }
      ]
    },
    {
      "cell_type": "code",
      "metadata": {
        "colab": {
          "base_uri": "https://localhost:8080/",
          "height": 1000
        },
        "id": "rrITZSgDr0br",
        "cellView": "form",
        "outputId": "096520d1-be07-46c0-bcba-68e7cc8a0dae"
      },
      "source": [
        "#@title Validate our results\n",
        "#@markdown Generate 1 Hermitian and 1 random (probably non-hermitian) matrix to test!\n",
        "\n",
        "from matplotlib import pyplot as plt\n",
        "\n",
        "mat = extend_diagonal(rand_hermitian(3), 1)\n",
        "bad = rand_hermitian(4)\n",
        "\n",
        "bruh = np.empty((2, 4, 4, 2))\n",
        "\n",
        "bruh[0,:,:,0] = mat.real\n",
        "bruh[0,:,:,1] = mat.imag\n",
        "\n",
        "bruh[1,:,:,0] = bad.real\n",
        "bruh[1,:,:,1] = bad.imag\n",
        "\n",
        "# Try to perturb the system\n",
        "# bruh[0,0,2,1] = 0.5\n",
        "# bruh[0,2,0,1] = 0.5\n",
        "\n",
        "prediction = model.predict(bruh)\n",
        "\n",
        "print(\"Hermiticity:\", prediction[0][0]*100, \"%\")\n",
        "print_matrix(mat)\n",
        "plt.matshow(bruh[0,:,:,0], cmap=plt.cm.Pastel1)\n",
        "plt.matshow(bruh[0,:,:,1], cmap=plt.cm.Pastel1)\n",
        "\n",
        "print(\"Hermiticity:\", prediction[1][0]*100, \"%\")\n",
        "print_matrix(bad)\n",
        "plt.matshow(bruh[1,:,:,0], cmap=plt.cm.Pastel1)\n",
        "plt.matshow(bruh[1,:,:,1], cmap=plt.cm.Pastel1)"
      ],
      "execution_count": 161,
      "outputs": [
        {
          "output_type": "stream",
          "text": [
            "Hermiticity: 98.908531665802 %\n",
            "                    0                   1                   2  \\\n",
            "0  0.418374-0.000000j  0.164814-0.075563j  0.012976-0.051314j   \n",
            "1  0.164814+0.075563j  0.125933+0.000000j  0.080998+0.110413j   \n",
            "2  0.012976+0.051314j  0.080998-0.110413j  0.455694+0.000000j   \n",
            "3  0.000000+0.000000j  0.000000+0.000000j  0.000000+0.000000j   \n",
            "\n",
            "                    3  \n",
            "0  0.000000+0.000000j  \n",
            "1  0.000000+0.000000j  \n",
            "2  0.000000+0.000000j  \n",
            "3  0.000000+0.000000j  \n",
            "Hermiticity: 99.71912503242493 %\n",
            "                    0                   1                   2  \\\n",
            "0  0.342311+0.000000j -0.079992+0.027135j -0.102320-0.027867j   \n",
            "1 -0.079992-0.027135j  0.284973+0.000000j -0.023901+0.034047j   \n",
            "2 -0.102320+0.027867j -0.023901-0.034047j  0.176284+0.000000j   \n",
            "3  0.009967+0.000590j  0.035510-0.030634j  0.091417-0.045880j   \n",
            "\n",
            "                    3  \n",
            "0  0.009967-0.000590j  \n",
            "1  0.035510+0.030634j  \n",
            "2  0.091417+0.045880j  \n",
            "3  0.196432-0.000000j  \n"
          ],
          "name": "stdout"
        },
        {
          "output_type": "execute_result",
          "data": {
            "text/plain": [
              "<matplotlib.image.AxesImage at 0x7f6c492351d0>"
            ]
          },
          "metadata": {
            "tags": []
          },
          "execution_count": 161
        },
        {
          "output_type": "display_data",
          "data": {
            "image/png": "[encoded data removed]",
            "text/plain": [
              "<Figure size 288x288 with 1 Axes>"
            ]
          },
          "metadata": {
            "tags": [],
            "needs_background": "light"
          }
        },
        {
          "output_type": "display_data",
          "data": {
            "image/png": "[encoded data removed]",
            "text/plain": [
              "<Figure size 288x288 with 1 Axes>"
            ]
          },
          "metadata": {
            "tags": [],
            "needs_background": "light"
          }
        },
        {
          "output_type": "display_data",
          "data": {
            "image/png": "[encoded data removed]",
            "text/plain": [
              "<Figure size 288x288 with 1 Axes>"
            ]
          },
          "metadata": {
            "tags": [],
            "needs_background": "light"
          }
        },
        {
          "output_type": "display_data",
          "data": {
            "image/png": "[encoded data removed]",
            "text/plain": [
              "<Figure size 288x288 with 1 Axes>"
            ]
          },
          "metadata": {
            "tags": [],
            "needs_background": "light"
          }
        }
      ]
    },
    {
      "cell_type": "code",
      "metadata": {
        "colab": {
          "base_uri": "https://localhost:8080/"
        },
        "id": "XFl-H7j6Lr3P",
        "outputId": "4f85b8e2-46ff-4e0b-9806-9ab8f5782dde"
      },
      "source": [
        "# Try to perturb the system\n",
        "bruh[0,0,2,1] = 0.5\n",
        "bruh[0,2,0,1] = 0\n",
        "\n",
        "bruh[1,0,2,1] = 0.5\n",
        "bruh[1,2,0,1] = 0\n",
        "\n",
        "bruh[1,0,3,1] = 0.5\n",
        "bruh[1,3,0,1] = 0.5\n",
        "\n",
        "prediction = model.predict(bruh)\n",
        "\n",
        "print(is_hermitian(np.matrix(bruh[0, :, :, 0] + 1j*bruh[0, :, :, 1])))\n",
        "\n",
        "print(\"Hermiticity:\", prediction[0][0]*100, \"%\")\n",
        "print_matrix(mat)\n",
        "\n",
        "print(is_hermitian(np.matrix(bruh[1, :, :, 0] + 1j*bruh[1, :, :, 1])))\n",
        "print(\"Hermiticity:\", prediction[1][0]*100, \"%\")\n",
        "print_matrix(bad)"
      ],
      "execution_count": 167,
      "outputs": [
        {
          "output_type": "stream",
          "text": [
            "False\n",
            "Hermiticity: 92.2925591468811 %\n",
            "                    0                   1                   2  \\\n",
            "0  0.418374-0.000000j  0.164814-0.075563j  0.012976-0.051314j   \n",
            "1  0.164814+0.075563j  0.125933+0.000000j  0.080998+0.110413j   \n",
            "2  0.012976+0.051314j  0.080998-0.110413j  0.455694+0.000000j   \n",
            "3  0.000000+0.000000j  0.000000+0.000000j  0.000000+0.000000j   \n",
            "\n",
            "                    3  \n",
            "0  0.000000+0.000000j  \n",
            "1  0.000000+0.000000j  \n",
            "2  0.000000+0.000000j  \n",
            "3  0.000000+0.000000j  \n",
            "False\n",
            "Hermiticity: 95.72951793670654 %\n",
            "                    0                   1                   2  \\\n",
            "0  0.342311+0.000000j -0.079992+0.027135j -0.102320-0.027867j   \n",
            "1 -0.079992-0.027135j  0.284973+0.000000j -0.023901+0.034047j   \n",
            "2 -0.102320+0.027867j -0.023901-0.034047j  0.176284+0.000000j   \n",
            "3  0.009967+0.000590j  0.035510-0.030634j  0.091417-0.045880j   \n",
            "\n",
            "                    3  \n",
            "0  0.009967-0.000590j  \n",
            "1  0.035510+0.030634j  \n",
            "2  0.091417+0.045880j  \n",
            "3  0.196432-0.000000j  \n"
          ],
          "name": "stdout"
        }
      ]
    },
    {
      "cell_type": "code",
      "metadata": {
        "colab": {
          "base_uri": "https://localhost:8080/"
        },
        "id": "zP8LuszNL8zD",
        "outputId": "62d2bd36-af22-41f9-94c6-f07914fe78ec"
      },
      "source": [
        ""
      ],
      "execution_count": 126,
      "outputs": [
        {
          "output_type": "execute_result",
          "data": {
            "text/plain": [
              "False"
            ]
          },
          "metadata": {
            "tags": []
          },
          "execution_count": 126
        }
      ]
    },
    {
      "cell_type": "markdown",
      "metadata": {
        "id": "J_TMQ0O3u2gJ"
      },
      "source": [
        "# Conclusion\n",
        "For 4x4 matrices, the network is not as sensitive"
      ]
    }
  ]
}